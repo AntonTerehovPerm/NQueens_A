{
 "cells": [
  {
   "cell_type": "markdown",
   "metadata": {},
   "source": [
    "# Стандартный алгоритм с улучшенным условием нахождения особи"
   ]
  },
  {
   "cell_type": "markdown",
   "metadata": {},
   "source": [
    "Реализуется: Добавилось условие по которому генетический алгоритм будет стремиться к 8 ферзям в коде особи"
   ]
  },
  {
   "cell_type": "code",
   "execution_count": 3,
   "metadata": {},
   "outputs": [],
   "source": [
    "class Solver_8_queens:\n",
    "    def __init__(self, pop_size=100, cross_prob=0.50, mut_prob=0.25):\n",
    "        pass\n",
    "    def solve(self, min_fitness=0.9, max_epochs=10000):\n",
    "        import random\n",
    "        osob ={}\n",
    "        kol = Solver_8_queens.pop_size\n",
    "        minus = []\n",
    "        pod = []\n",
    "        k=True\n",
    "        t = 0\n",
    "    \n",
    "        StartPopulation()\n",
    "        \n",
    "        while k:\n",
    "            maom = 64\n",
    "            maomi = 0\n",
    "            miom = 64\n",
    "            miomi = 0\n",
    "            for z in range(1,kol):\n",
    "                WaveStar(z)\n",
    "            Сrossing()\n",
    "            t+=1\n",
    "            if t >= Solver_8_queens.max_epochs: \n",
    "                k = False\n",
    "                best_fit = 1\n",
    "                epoch_num = t\n",
    "                if maomi == 0: vizualization = osob[miomi][1] #извините что не выводится с табуляцией\n",
    "                else: vizualization = osob[maomi][1]\n",
    "        return best_fit,epoch_num, vizualization\n",
    "        "
   ]
  },
  {
   "cell_type": "code",
   "execution_count": 4,
   "metadata": {},
   "outputs": [],
   "source": [
    "#это функция создания стартовой популяции\",\n",
    "def StartPopulation():\n",
    "        global osob,kol\n",
    "        for x in range(1,kol):\n",
    "            s = ''\n",
    "            i = 0\n",
    "            for u in range(0,64):\n",
    "                s = s + random.choice(['+','Q'])\n",
    "                if s[u-1] == 'Q': i += 1\n",
    "                #if u % 8 == 0: s = s + '\\n',\n",
    "            osob[x] = i,s,'',64    "
   ]
  },
  {
   "cell_type": "code",
   "execution_count": 5,
   "metadata": {},
   "outputs": [],
   "source": [
    "def star(s): #проверка особи, сколько пересекающихся ферзей стоит на поле для каждого ферзя\n",
    "    s ='~'+s\n",
    "    i = s.count('Q')\n",
    "    kolQ = 0\n",
    "    while i!= 0:\n",
    "            i = s.count('Q')\n",
    "            k = s.find('Q')\n",
    "            n1 = k-(k%8-1)\n",
    "            n2 = k+(8-k%8)\n",
    "            if n2 > 64: n2 = 64\n",
    "            s = cut(s,k)\n",
    "            kof = 7\n",
    "            z =True\n",
    "            j=1\n",
    "            k7 = True\n",
    "            k7m = True\n",
    "            k9 = True\n",
    "            k9m = True,\n",
    "            while z:\n",
    "                if (k-7*j>=0)and(k7m):\n",
    "                        if s[k-7*j] == 'Q':\n",
    "                            kolQ += 1\n",
    "                        s = cut(s,k-7*j)\n",
    "                if (k+7*j<=64)and(k7):\n",
    "                        if s[k+7*j] == 'Q':\n",
    "                            kolQ += 1\n",
    "                        s = cut(s,k+7*j)\n",
    "                if k+8*j<=64:\n",
    "                        if s[k+8*j] == 'Q':\n",
    "                            kolQ += 1\n",
    "                        s = cut(s,k+8*j)\n",
    "                if k-8*j>=0:\n",
    "                        if s[k-8*j] == 'Q':\n",
    "                            kolQ += 1\n",
    "                        s = cut(s,k-8*j)\n",
    "                if (k+9*j<=64)and(k9):\n",
    "                        if s[k+9*j] == 'Q':\n",
    "                            kolQ += 1\n",
    "                        s = cut(s,k+9*j)\n",
    "                if (k-9*j>=0)and(k9m):\n",
    "                        if s[k-9*j] == 'Q':\n",
    "                            kolQ += 1\n",
    "                        s = cut(s,k-9*j)\n",
    "                if k+1*j <= n2:\n",
    "                        if s[k+1*j] == 'Q':\n",
    "                            kolQ += 1\n",
    "                        s = cut(s,k+1*j)\n",
    "                if k-1*j >= n1:\n",
    "                        if s[k-1*j] == 'Q':\n",
    "                            kolQ += 1\n",
    "                        s = cut(s,k-1*j)\n",
    "                if ((k+7*j) % 8 == 1) or ((k+7*j) % 8 == 0): k7 = False\n",
    "                if ((k-7*j) % 8 == 1) or ((k-7*j) % 8 == 0): k7m = False\n",
    "                if ((k+9*j) % 8 == 1) or ((k+9*j) % 8 == 0): k9 = False\n",
    "                if ((k-9*j) % 8 == 1) or ((k-9*j) % 8 == 0): k9m = False    \n",
    "                if (k+7*j > 64)and(k-7*j<0)and(k+8*j > 64)and(k-8*j<0)and(k+9*j > 64)and(k-9*j<0)and(k-1*j<n1)and(k+1*j>n2): z =False\n",
    "                j += 1\n",
    "    return kolQ   "
   ]
  },
  {
   "cell_type": "code",
   "execution_count": 6,
   "metadata": {},
   "outputs": [],
   "source": [
    "#это функция проверки популяции на условие 8 ферзей\n",
    "def WaveStar(z):\n",
    "    global osob,kol,pod,minus,miom,miomi,k,maom,maomi\n",
    "    if osob[z][0] <= 8: \n",
    "        pr(osob[z])\n",
    "        osob[z] = osob[z][0],osob[z][1],'Подходит'\n",
    "        pod.append(z)\n",
    "        perOs = star(osob[z][1])\n",
    "        if  maom > perOs : # >= если нужна последняя особь\n",
    "            maom = perOs \n",
    "            maomi = z\n",
    "            miom = osob[z][0]\n",
    "            miomi = z\n",
    "        osob[z] = osob[z][0],osob[z][1],'Подходит',perOs\n",
    "    else: \n",
    "        pr(osob[z])\n",
    "        osob[z] = osob[z][0],osob[z][1],'Мусор',64\n",
    "        minus.append(z)\n",
    "        if miom >= osob[z][0]: \n",
    "                miom = osob[z][0]\n",
    "                miomi = z"
   ]
  },
  {
   "cell_type": "code",
   "execution_count": 7,
   "metadata": {},
   "outputs": [],
   "source": [
    "#это функция изменяет популяцию мутацией\n",
    "def Сrossing():\n",
    "    global osob,kol,pod,minus,miom,miomi,k,maom,maomi\n",
    "    if (maom == 0)and(osob[maomi][1].count('Q') == 8): \n",
    "        print('Решение найдено ')\n",
    "        print(osob[maomi])\n",
    "        k=False\n",
    "    s1 = osob[miomi][1]\n",
    "    for x in range(1,kol):\n",
    "        a = random.randint(1,63) \n",
    "        s2 = str(s1[0:a]) + random.choice(['+','Q']) + str(s1[a+1:len(s1)])\n",
    "        osob[x] = s2.count('Q'),s2,'',64\n",
    "    osob[kol-1] = s1.count('Q'),s1,'',maom"
   ]
  },
  {
   "cell_type": "code",
   "execution_count": 8,
   "metadata": {},
   "outputs": [],
   "source": [
    "def pr(g):\n",
    "    print(g)"
   ]
  },
  {
   "cell_type": "code",
   "execution_count": 9,
   "metadata": {},
   "outputs": [],
   "source": [
    "def cut(s,k):\n",
    "    s = str(s[0:k]) + '~' + str(s[k+1:len(s)])\n",
    "    return s"
   ]
  }
 ],
 "metadata": {
  "kernelspec": {
   "display_name": "Python 3",
   "language": "python",
   "name": "python3"
  },
  "language_info": {
   "codemirror_mode": {
    "name": "ipython",
    "version": 3
   },
   "file_extension": ".py",
   "mimetype": "text/x-python",
   "name": "python",
   "nbconvert_exporter": "python",
   "pygments_lexer": "ipython3",
   "version": "3.6.5"
  }
 },
 "nbformat": 4,
 "nbformat_minor": 2
}
