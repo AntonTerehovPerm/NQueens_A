{
 "cells": [
  {
   "cell_type": "code",
   "execution_count": null,
   "metadata": {},
   "outputs": [],
   "source": [
    "def create_osob():\n",
    "    global osob,pop_size,board_width\n",
    "    for x in range(1,pop_size):\n",
    "        e = random.randint(1,board_width)\n",
    "        osob[x] = [str(e)],'-',0\n",
    "    return(osob)"
   ]
  },
  {
   "cell_type": "code",
   "execution_count": null,
   "metadata": {},
   "outputs": [],
   "source": [
    "def up(g,n):\n",
    "    #print(g,n)\n",
    "    d = g\n",
    "    #print(d)\n",
    "    for x in n:\n",
    "        #print(x)\n",
    "        d.append(x)    \n",
    "    return d"
   ]
  },
  {
   "cell_type": "code",
   "execution_count": null,
   "metadata": {},
   "outputs": [],
   "source": [
    "def ne_odn(n,g):\n",
    "    k = 0\n",
    "    for x in n:\n",
    "        for y in g:\n",
    "            if x == y: k +=1\n",
    "    if k == 0: return True\n",
    "    else: return False"
   ]
  },
  {
   "cell_type": "code",
   "execution_count": null,
   "metadata": {},
   "outputs": [],
   "source": [
    "def live_or_die():\n",
    "    global osob\n",
    "    for x in range(1,len(osob)):\n",
    "        if osob[x][2] != 3 :\n",
    "            g = random.randint(1,100)\n",
    "            e = random.randint(1,len(osob))\n",
    "            if (g % 2 == 0)and (osob[x][1] != 'm')and(x != e)and(ne_odn(osob[x][0],osob[e][0])): \n",
    "                if osob[x][2]!=0: osob[x][2]-1 \n",
    "                #print('Особь '+ str(x)+' съела особь '+str(e))\n",
    "                osob[x] = up(osob[x][0],osob[e][0]),'p',osob[x][2]\n",
    "                osob[e] = osob[e][0],'m', osob[e][2]\n",
    "            else: \n",
    "                osob[x] = osob[x][0],osob[x][1],osob[x][2]+1\n",
    "                #if osob[x][1] == 'm': print('Особь '+ str(x)+' мертва')\n",
    "                #else:    print('Особь '+ str(x)+' оголодала на 1')\n",
    "    return(osob)"
   ]
  },
  {
   "cell_type": "code",
   "execution_count": null,
   "metadata": {},
   "outputs": [],
   "source": [
    "def mus():\n",
    "    global osob\n",
    "    osob2 = {}\n",
    "    i = 0\n",
    "    for x in range(1,len(osob)):\n",
    "        if (osob[x][2] != 3) and (osob[x][1] != 'm') :\n",
    "            i+=1\n",
    "            osob2[i] = osob[x][0],osob[x][1],osob[x][2]\n",
    "    return osob2"
   ]
  },
  {
   "cell_type": "code",
   "execution_count": null,
   "metadata": {},
   "outputs": [],
   "source": [
    "def prov():\n",
    "    global k,osob,kolQ,board_width\n",
    "    z = 0\n",
    "    for x in range(1,len(osob)):\n",
    "        if len(osob[x][0]) == board_width: \n",
    "            z = posl_prov(osob[x][0])\n",
    "            kolQ +=1\n",
    "            print('Возможно походящая особь')\n",
    "            print(osob[x])\n",
    "            if (z == 0 ):\n",
    "                print('Найдено верное решение подходящее под условие - номер особи: '+str(x))\n",
    "                #print('Коэффициент набора',z)\n",
    "                print(osob[x])\n",
    "                print('Количество подходящих решений: '+str(kolQ))\n",
    "                k=False\n",
    "            else:\n",
    "                osob ={}\n",
    "                create_osob()\n",
    "        else:\n",
    "            if len(osob[x][0]) >= 8: osob[x] = osob[x][0],'m',osob[x][2]"
   ]
  },
  {
   "cell_type": "code",
   "execution_count": null,
   "metadata": {},
   "outputs": [],
   "source": [
    "def dop():\n",
    "    global osob,pop_size,board_width\n",
    "    if len(osob) < pop_size:\n",
    "        for x in range(len(osob),pop_size):\n",
    "            e = random.randint(1,board_width)\n",
    "            osob[x] = str(e),'-',0,[e]"
   ]
  },
  {
   "cell_type": "code",
   "execution_count": null,
   "metadata": {},
   "outputs": [],
   "source": [
    "def posl_prov(n):\n",
    "    k1 = 0\n",
    "    for x in range(0,len(n)-1):\n",
    "        y = x+1\n",
    "        if int(abs(int(x)+1 - int(y)+1)) == int(abs(int(n[x]) - int(n[y]))): k1+=1 \n",
    "    return int(k1)"
   ]
  },
  {
   "cell_type": "code",
   "execution_count": null,
   "metadata": {
    "scrolled": true
   },
   "outputs": [],
   "source": [
    "import random\n",
    "pop_size = 10000\n",
    "osob ={}\n",
    "board_width = 8\n",
    "k = True\n",
    "create_osob()\n",
    "t = 0\n",
    "kolQ = 0\n",
    "while k:\n",
    "    t +=1\n",
    "    #print('Итерация № '+str(t))\n",
    "    live_or_die()\n",
    "    mus()\n",
    "    prov()\n",
    "    dop()\n",
    "    if t >=1000:\n",
    "        print('Решение не найдено') \n",
    "        print(kolQ)\n",
    "        break\n",
    "print('Итерация № '+str(t))"
   ]
  },
  {
   "cell_type": "code",
   "execution_count": null,
   "metadata": {},
   "outputs": [],
   "source": []
  }
 ],
 "metadata": {
  "kernelspec": {
   "display_name": "Python 3",
   "language": "python",
   "name": "python3"
  },
  "language_info": {
   "codemirror_mode": {
    "name": "ipython",
    "version": 3
   },
   "file_extension": ".py",
   "mimetype": "text/x-python",
   "name": "python",
   "nbconvert_exporter": "python",
   "pygments_lexer": "ipython3",
   "version": "3.6.5"
  }
 },
 "nbformat": 4,
 "nbformat_minor": 2
}
